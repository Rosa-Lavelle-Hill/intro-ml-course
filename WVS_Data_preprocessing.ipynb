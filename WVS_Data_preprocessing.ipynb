{
  "nbformat": 4,
  "nbformat_minor": 0,
  "metadata": {
    "colab": {
      "provenance": []
    },
    "kernelspec": {
      "name": "python3",
      "display_name": "Python 3"
    },
    "language_info": {
      "name": "python"
    }
  },
  "cells": [
    {
      "cell_type": "markdown",
      "source": [
        "# Workshop: An Introduction to Machine Learning in Psychology and Education Science"
      ],
      "metadata": {
        "id": "bzTGZamn2F58"
      }
    },
    {
      "cell_type": "markdown",
      "source": [
        "This example uses opensource data from the [World Values Survey](https://www.worldvaluessurvey.org/wvs.jsp) (surveys of people's beliefs and values in many countries across the world) to\n",
        "**(1) predict** who will go on to higher education, and\n",
        "**(2) identify** the most important predictors.\n",
        "\n",
        "\n",
        "*Note: the example is simplified and for teaching purposes only.*"
      ],
      "metadata": {
        "id": "Q92xR1gKtW06"
      }
    },
    {
      "cell_type": "code",
      "execution_count": 1,
      "metadata": {
        "id": "OiEk9agM12m6",
        "colab": {
          "base_uri": "https://localhost:8080/"
        },
        "outputId": "c49edde6-8f19-431d-ac8d-5d7ca2440a17"
      },
      "outputs": [
        {
          "output_type": "stream",
          "name": "stdout",
          "text": [
            "Drive already mounted at /content/drive/; to attempt to forcibly remount, call drive.mount(\"/content/drive/\", force_remount=True).\n"
          ]
        }
      ],
      "source": [
        "# mount google drive\n",
        "from google.colab import drive\n",
        "drive.mount('/content/drive/')"
      ]
    },
    {
      "cell_type": "code",
      "source": [
        "# set home directory\n",
        "import sys\n",
        "sys.path.append('/content/drive/MyDrive/Colab Notebooks/IntroMLCourse/')"
      ],
      "metadata": {
        "id": "LJeV1N6pXKfZ"
      },
      "execution_count": 2,
      "outputs": []
    },
    {
      "cell_type": "code",
      "source": [
        "# import necessary modules\n",
        "import pandas as pd\n",
        "import numpy as np\n",
        "import matplotlib.pyplot as plt\n",
        "import datetime as dt"
      ],
      "metadata": {
        "id": "9EJiroSk8IOA"
      },
      "execution_count": 3,
      "outputs": []
    },
    {
      "cell_type": "markdown",
      "source": [
        "## 1. Load the Data"
      ],
      "metadata": {
        "id": "0nBo0vPxZA0S"
      }
    },
    {
      "cell_type": "code",
      "source": [
        "# set start time\n",
        "start = dt.datetime.now()\n",
        "\n",
        "df = pd.read_csv(\"/content/drive/MyDrive/Colab Notebooks/IntroMLCourse/Wave7.csv\")\n",
        "\n",
        "end_data_load = dt.datetime.now()\n",
        "data_load_time = end_data_load - start\n",
        "print(\"Data is loaded. Time taken: {}\".format(str(data_load_time)))\n",
        "\n",
        "print(df.shape)\n",
        "df.head()"
      ],
      "metadata": {
        "colab": {
          "base_uri": "https://localhost:8080/",
          "height": 518
        },
        "id": "MzHqQRGN8JCr",
        "outputId": "cf7fb956-fa5c-4905-c6e0-33459bc1e76b"
      },
      "execution_count": 4,
      "outputs": [
        {
          "output_type": "stream",
          "name": "stderr",
          "text": [
            "<ipython-input-4-54900f62d22c>:4: DtypeWarning: Columns (517,518,519) have mixed types. Specify dtype option on import or set low_memory=False.\n",
            "  df = pd.read_csv(\"/content/drive/MyDrive/Colab Notebooks/IntroMLCourse/Wave7.csv\")\n"
          ]
        },
        {
          "output_type": "stream",
          "name": "stdout",
          "text": [
            "Data is loaded. Time taken: 0:00:14.327477\n",
            "(76897, 549)\n"
          ]
        },
        {
          "output_type": "execute_result",
          "data": {
            "text/plain": [
              "   Unnamed: 0             version                        doi  A_WAVE  A_STUDY  \\\n",
              "0           1  2-0-0 (2021-07-07)  doi.org/10.14281/18241.13       7        2   \n",
              "1           2  2-0-0 (2021-07-07)  doi.org/10.14281/18241.13       7        2   \n",
              "2           3  2-0-0 (2021-07-07)  doi.org/10.14281/18241.13       7        2   \n",
              "3           4  2-0-0 (2021-07-07)  doi.org/10.14281/18241.13       7        2   \n",
              "4           5  2-0-0 (2021-07-07)  doi.org/10.14281/18241.13       7        2   \n",
              "\n",
              "   B_COUNTRY B_COUNTRY_ALPHA  C_COW_NUM C_COW_ALPHA  A_YEAR  ...  \\\n",
              "0         20             AND        232         AND    2018  ...   \n",
              "1         20             AND        232         AND    2018  ...   \n",
              "2         20             AND        232         AND    2018  ...   \n",
              "3         20             AND        232         AND    2018  ...   \n",
              "4         20             AND        232         AND    2018  ...   \n",
              "\n",
              "   WVS_Polmistrust_PartyVoter  WVS_LR_MedianVoter  WVS_LibCon_MedianVoter  \\\n",
              "0                   62.434211              -999.0                  -999.0   \n",
              "1                   62.434211              -999.0                  -999.0   \n",
              "2                   62.434211              -999.0                  -999.0   \n",
              "3                         NaN                 NaN                     NaN   \n",
              "4                   66.964286              -999.0                  -999.0   \n",
              "\n",
              "   v2psbars  v2psorgs  v2psprbrch  v2psprlnks  v2psplats  v2xnp_client  \\\n",
              "0    -999.0    -999.0      -999.0      -999.0     -999.0        -999.0   \n",
              "1    -999.0    -999.0      -999.0      -999.0     -999.0        -999.0   \n",
              "2    -999.0    -999.0      -999.0      -999.0     -999.0        -999.0   \n",
              "3       NaN       NaN         NaN         NaN        NaN           NaN   \n",
              "4    -999.0    -999.0      -999.0      -999.0     -999.0        -999.0   \n",
              "\n",
              "   v2xps_party  \n",
              "0       -999.0  \n",
              "1       -999.0  \n",
              "2       -999.0  \n",
              "3          NaN  \n",
              "4       -999.0  \n",
              "\n",
              "[5 rows x 549 columns]"
            ],
            "text/html": [
              "\n",
              "  <div id=\"df-a28d12e9-b109-47eb-bb08-ec6e909b312c\" class=\"colab-df-container\">\n",
              "    <div>\n",
              "<style scoped>\n",
              "    .dataframe tbody tr th:only-of-type {\n",
              "        vertical-align: middle;\n",
              "    }\n",
              "\n",
              "    .dataframe tbody tr th {\n",
              "        vertical-align: top;\n",
              "    }\n",
              "\n",
              "    .dataframe thead th {\n",
              "        text-align: right;\n",
              "    }\n",
              "</style>\n",
              "<table border=\"1\" class=\"dataframe\">\n",
              "  <thead>\n",
              "    <tr style=\"text-align: right;\">\n",
              "      <th></th>\n",
              "      <th>Unnamed: 0</th>\n",
              "      <th>version</th>\n",
              "      <th>doi</th>\n",
              "      <th>A_WAVE</th>\n",
              "      <th>A_STUDY</th>\n",
              "      <th>B_COUNTRY</th>\n",
              "      <th>B_COUNTRY_ALPHA</th>\n",
              "      <th>C_COW_NUM</th>\n",
              "      <th>C_COW_ALPHA</th>\n",
              "      <th>A_YEAR</th>\n",
              "      <th>...</th>\n",
              "      <th>WVS_Polmistrust_PartyVoter</th>\n",
              "      <th>WVS_LR_MedianVoter</th>\n",
              "      <th>WVS_LibCon_MedianVoter</th>\n",
              "      <th>v2psbars</th>\n",
              "      <th>v2psorgs</th>\n",
              "      <th>v2psprbrch</th>\n",
              "      <th>v2psprlnks</th>\n",
              "      <th>v2psplats</th>\n",
              "      <th>v2xnp_client</th>\n",
              "      <th>v2xps_party</th>\n",
              "    </tr>\n",
              "  </thead>\n",
              "  <tbody>\n",
              "    <tr>\n",
              "      <th>0</th>\n",
              "      <td>1</td>\n",
              "      <td>2-0-0 (2021-07-07)</td>\n",
              "      <td>doi.org/10.14281/18241.13</td>\n",
              "      <td>7</td>\n",
              "      <td>2</td>\n",
              "      <td>20</td>\n",
              "      <td>AND</td>\n",
              "      <td>232</td>\n",
              "      <td>AND</td>\n",
              "      <td>2018</td>\n",
              "      <td>...</td>\n",
              "      <td>62.434211</td>\n",
              "      <td>-999.0</td>\n",
              "      <td>-999.0</td>\n",
              "      <td>-999.0</td>\n",
              "      <td>-999.0</td>\n",
              "      <td>-999.0</td>\n",
              "      <td>-999.0</td>\n",
              "      <td>-999.0</td>\n",
              "      <td>-999.0</td>\n",
              "      <td>-999.0</td>\n",
              "    </tr>\n",
              "    <tr>\n",
              "      <th>1</th>\n",
              "      <td>2</td>\n",
              "      <td>2-0-0 (2021-07-07)</td>\n",
              "      <td>doi.org/10.14281/18241.13</td>\n",
              "      <td>7</td>\n",
              "      <td>2</td>\n",
              "      <td>20</td>\n",
              "      <td>AND</td>\n",
              "      <td>232</td>\n",
              "      <td>AND</td>\n",
              "      <td>2018</td>\n",
              "      <td>...</td>\n",
              "      <td>62.434211</td>\n",
              "      <td>-999.0</td>\n",
              "      <td>-999.0</td>\n",
              "      <td>-999.0</td>\n",
              "      <td>-999.0</td>\n",
              "      <td>-999.0</td>\n",
              "      <td>-999.0</td>\n",
              "      <td>-999.0</td>\n",
              "      <td>-999.0</td>\n",
              "      <td>-999.0</td>\n",
              "    </tr>\n",
              "    <tr>\n",
              "      <th>2</th>\n",
              "      <td>3</td>\n",
              "      <td>2-0-0 (2021-07-07)</td>\n",
              "      <td>doi.org/10.14281/18241.13</td>\n",
              "      <td>7</td>\n",
              "      <td>2</td>\n",
              "      <td>20</td>\n",
              "      <td>AND</td>\n",
              "      <td>232</td>\n",
              "      <td>AND</td>\n",
              "      <td>2018</td>\n",
              "      <td>...</td>\n",
              "      <td>62.434211</td>\n",
              "      <td>-999.0</td>\n",
              "      <td>-999.0</td>\n",
              "      <td>-999.0</td>\n",
              "      <td>-999.0</td>\n",
              "      <td>-999.0</td>\n",
              "      <td>-999.0</td>\n",
              "      <td>-999.0</td>\n",
              "      <td>-999.0</td>\n",
              "      <td>-999.0</td>\n",
              "    </tr>\n",
              "    <tr>\n",
              "      <th>3</th>\n",
              "      <td>4</td>\n",
              "      <td>2-0-0 (2021-07-07)</td>\n",
              "      <td>doi.org/10.14281/18241.13</td>\n",
              "      <td>7</td>\n",
              "      <td>2</td>\n",
              "      <td>20</td>\n",
              "      <td>AND</td>\n",
              "      <td>232</td>\n",
              "      <td>AND</td>\n",
              "      <td>2018</td>\n",
              "      <td>...</td>\n",
              "      <td>NaN</td>\n",
              "      <td>NaN</td>\n",
              "      <td>NaN</td>\n",
              "      <td>NaN</td>\n",
              "      <td>NaN</td>\n",
              "      <td>NaN</td>\n",
              "      <td>NaN</td>\n",
              "      <td>NaN</td>\n",
              "      <td>NaN</td>\n",
              "      <td>NaN</td>\n",
              "    </tr>\n",
              "    <tr>\n",
              "      <th>4</th>\n",
              "      <td>5</td>\n",
              "      <td>2-0-0 (2021-07-07)</td>\n",
              "      <td>doi.org/10.14281/18241.13</td>\n",
              "      <td>7</td>\n",
              "      <td>2</td>\n",
              "      <td>20</td>\n",
              "      <td>AND</td>\n",
              "      <td>232</td>\n",
              "      <td>AND</td>\n",
              "      <td>2018</td>\n",
              "      <td>...</td>\n",
              "      <td>66.964286</td>\n",
              "      <td>-999.0</td>\n",
              "      <td>-999.0</td>\n",
              "      <td>-999.0</td>\n",
              "      <td>-999.0</td>\n",
              "      <td>-999.0</td>\n",
              "      <td>-999.0</td>\n",
              "      <td>-999.0</td>\n",
              "      <td>-999.0</td>\n",
              "      <td>-999.0</td>\n",
              "    </tr>\n",
              "  </tbody>\n",
              "</table>\n",
              "<p>5 rows × 549 columns</p>\n",
              "</div>\n",
              "    <div class=\"colab-df-buttons\">\n",
              "\n",
              "  <div class=\"colab-df-container\">\n",
              "    <button class=\"colab-df-convert\" onclick=\"convertToInteractive('df-a28d12e9-b109-47eb-bb08-ec6e909b312c')\"\n",
              "            title=\"Convert this dataframe to an interactive table.\"\n",
              "            style=\"display:none;\">\n",
              "\n",
              "  <svg xmlns=\"http://www.w3.org/2000/svg\" height=\"24px\" viewBox=\"0 -960 960 960\">\n",
              "    <path d=\"M120-120v-720h720v720H120Zm60-500h600v-160H180v160Zm220 220h160v-160H400v160Zm0 220h160v-160H400v160ZM180-400h160v-160H180v160Zm440 0h160v-160H620v160ZM180-180h160v-160H180v160Zm440 0h160v-160H620v160Z\"/>\n",
              "  </svg>\n",
              "    </button>\n",
              "\n",
              "  <style>\n",
              "    .colab-df-container {\n",
              "      display:flex;\n",
              "      gap: 12px;\n",
              "    }\n",
              "\n",
              "    .colab-df-convert {\n",
              "      background-color: #E8F0FE;\n",
              "      border: none;\n",
              "      border-radius: 50%;\n",
              "      cursor: pointer;\n",
              "      display: none;\n",
              "      fill: #1967D2;\n",
              "      height: 32px;\n",
              "      padding: 0 0 0 0;\n",
              "      width: 32px;\n",
              "    }\n",
              "\n",
              "    .colab-df-convert:hover {\n",
              "      background-color: #E2EBFA;\n",
              "      box-shadow: 0px 1px 2px rgba(60, 64, 67, 0.3), 0px 1px 3px 1px rgba(60, 64, 67, 0.15);\n",
              "      fill: #174EA6;\n",
              "    }\n",
              "\n",
              "    .colab-df-buttons div {\n",
              "      margin-bottom: 4px;\n",
              "    }\n",
              "\n",
              "    [theme=dark] .colab-df-convert {\n",
              "      background-color: #3B4455;\n",
              "      fill: #D2E3FC;\n",
              "    }\n",
              "\n",
              "    [theme=dark] .colab-df-convert:hover {\n",
              "      background-color: #434B5C;\n",
              "      box-shadow: 0px 1px 3px 1px rgba(0, 0, 0, 0.15);\n",
              "      filter: drop-shadow(0px 1px 2px rgba(0, 0, 0, 0.3));\n",
              "      fill: #FFFFFF;\n",
              "    }\n",
              "  </style>\n",
              "\n",
              "    <script>\n",
              "      const buttonEl =\n",
              "        document.querySelector('#df-a28d12e9-b109-47eb-bb08-ec6e909b312c button.colab-df-convert');\n",
              "      buttonEl.style.display =\n",
              "        google.colab.kernel.accessAllowed ? 'block' : 'none';\n",
              "\n",
              "      async function convertToInteractive(key) {\n",
              "        const element = document.querySelector('#df-a28d12e9-b109-47eb-bb08-ec6e909b312c');\n",
              "        const dataTable =\n",
              "          await google.colab.kernel.invokeFunction('convertToInteractive',\n",
              "                                                    [key], {});\n",
              "        if (!dataTable) return;\n",
              "\n",
              "        const docLinkHtml = 'Like what you see? Visit the ' +\n",
              "          '<a target=\"_blank\" href=https://colab.research.google.com/notebooks/data_table.ipynb>data table notebook</a>'\n",
              "          + ' to learn more about interactive tables.';\n",
              "        element.innerHTML = '';\n",
              "        dataTable['output_type'] = 'display_data';\n",
              "        await google.colab.output.renderOutput(dataTable, element);\n",
              "        const docLink = document.createElement('div');\n",
              "        docLink.innerHTML = docLinkHtml;\n",
              "        element.appendChild(docLink);\n",
              "      }\n",
              "    </script>\n",
              "  </div>\n",
              "\n",
              "\n",
              "<div id=\"df-99cf3280-082e-4add-82f6-cdfbdb53ccdf\">\n",
              "  <button class=\"colab-df-quickchart\" onclick=\"quickchart('df-99cf3280-082e-4add-82f6-cdfbdb53ccdf')\"\n",
              "            title=\"Suggest charts\"\n",
              "            style=\"display:none;\">\n",
              "\n",
              "<svg xmlns=\"http://www.w3.org/2000/svg\" height=\"24px\"viewBox=\"0 0 24 24\"\n",
              "     width=\"24px\">\n",
              "    <g>\n",
              "        <path d=\"M19 3H5c-1.1 0-2 .9-2 2v14c0 1.1.9 2 2 2h14c1.1 0 2-.9 2-2V5c0-1.1-.9-2-2-2zM9 17H7v-7h2v7zm4 0h-2V7h2v10zm4 0h-2v-4h2v4z\"/>\n",
              "    </g>\n",
              "</svg>\n",
              "  </button>\n",
              "\n",
              "<style>\n",
              "  .colab-df-quickchart {\n",
              "      --bg-color: #E8F0FE;\n",
              "      --fill-color: #1967D2;\n",
              "      --hover-bg-color: #E2EBFA;\n",
              "      --hover-fill-color: #174EA6;\n",
              "      --disabled-fill-color: #AAA;\n",
              "      --disabled-bg-color: #DDD;\n",
              "  }\n",
              "\n",
              "  [theme=dark] .colab-df-quickchart {\n",
              "      --bg-color: #3B4455;\n",
              "      --fill-color: #D2E3FC;\n",
              "      --hover-bg-color: #434B5C;\n",
              "      --hover-fill-color: #FFFFFF;\n",
              "      --disabled-bg-color: #3B4455;\n",
              "      --disabled-fill-color: #666;\n",
              "  }\n",
              "\n",
              "  .colab-df-quickchart {\n",
              "    background-color: var(--bg-color);\n",
              "    border: none;\n",
              "    border-radius: 50%;\n",
              "    cursor: pointer;\n",
              "    display: none;\n",
              "    fill: var(--fill-color);\n",
              "    height: 32px;\n",
              "    padding: 0;\n",
              "    width: 32px;\n",
              "  }\n",
              "\n",
              "  .colab-df-quickchart:hover {\n",
              "    background-color: var(--hover-bg-color);\n",
              "    box-shadow: 0 1px 2px rgba(60, 64, 67, 0.3), 0 1px 3px 1px rgba(60, 64, 67, 0.15);\n",
              "    fill: var(--button-hover-fill-color);\n",
              "  }\n",
              "\n",
              "  .colab-df-quickchart-complete:disabled,\n",
              "  .colab-df-quickchart-complete:disabled:hover {\n",
              "    background-color: var(--disabled-bg-color);\n",
              "    fill: var(--disabled-fill-color);\n",
              "    box-shadow: none;\n",
              "  }\n",
              "\n",
              "  .colab-df-spinner {\n",
              "    border: 2px solid var(--fill-color);\n",
              "    border-color: transparent;\n",
              "    border-bottom-color: var(--fill-color);\n",
              "    animation:\n",
              "      spin 1s steps(1) infinite;\n",
              "  }\n",
              "\n",
              "  @keyframes spin {\n",
              "    0% {\n",
              "      border-color: transparent;\n",
              "      border-bottom-color: var(--fill-color);\n",
              "      border-left-color: var(--fill-color);\n",
              "    }\n",
              "    20% {\n",
              "      border-color: transparent;\n",
              "      border-left-color: var(--fill-color);\n",
              "      border-top-color: var(--fill-color);\n",
              "    }\n",
              "    30% {\n",
              "      border-color: transparent;\n",
              "      border-left-color: var(--fill-color);\n",
              "      border-top-color: var(--fill-color);\n",
              "      border-right-color: var(--fill-color);\n",
              "    }\n",
              "    40% {\n",
              "      border-color: transparent;\n",
              "      border-right-color: var(--fill-color);\n",
              "      border-top-color: var(--fill-color);\n",
              "    }\n",
              "    60% {\n",
              "      border-color: transparent;\n",
              "      border-right-color: var(--fill-color);\n",
              "    }\n",
              "    80% {\n",
              "      border-color: transparent;\n",
              "      border-right-color: var(--fill-color);\n",
              "      border-bottom-color: var(--fill-color);\n",
              "    }\n",
              "    90% {\n",
              "      border-color: transparent;\n",
              "      border-bottom-color: var(--fill-color);\n",
              "    }\n",
              "  }\n",
              "</style>\n",
              "\n",
              "  <script>\n",
              "    async function quickchart(key) {\n",
              "      const quickchartButtonEl =\n",
              "        document.querySelector('#' + key + ' button');\n",
              "      quickchartButtonEl.disabled = true;  // To prevent multiple clicks.\n",
              "      quickchartButtonEl.classList.add('colab-df-spinner');\n",
              "      try {\n",
              "        const charts = await google.colab.kernel.invokeFunction(\n",
              "            'suggestCharts', [key], {});\n",
              "      } catch (error) {\n",
              "        console.error('Error during call to suggestCharts:', error);\n",
              "      }\n",
              "      quickchartButtonEl.classList.remove('colab-df-spinner');\n",
              "      quickchartButtonEl.classList.add('colab-df-quickchart-complete');\n",
              "    }\n",
              "    (() => {\n",
              "      let quickchartButtonEl =\n",
              "        document.querySelector('#df-99cf3280-082e-4add-82f6-cdfbdb53ccdf button');\n",
              "      quickchartButtonEl.style.display =\n",
              "        google.colab.kernel.accessAllowed ? 'block' : 'none';\n",
              "    })();\n",
              "  </script>\n",
              "</div>\n",
              "\n",
              "    </div>\n",
              "  </div>\n"
            ],
            "application/vnd.google.colaboratory.intrinsic+json": {
              "type": "dataframe",
              "variable_name": "df"
            }
          },
          "metadata": {},
          "execution_count": 4
        }
      ]
    },
    {
      "cell_type": "code",
      "source": [
        "# set index\n",
        "df.set_index(\"Unnamed: 0\", drop=True, inplace=True)"
      ],
      "metadata": {
        "id": "BsMBC9nAYOvd"
      },
      "execution_count": 5,
      "outputs": []
    },
    {
      "cell_type": "markdown",
      "source": [
        "## 2. Define the Dependent Variable (DV)"
      ],
      "metadata": {
        "id": "xF9Ul_n3Ylut"
      }
    },
    {
      "cell_type": "markdown",
      "source": [
        "We are going to use the example of predicting whether someone goes on to further education (Master's or PhD) or not. This is therefore a binary classification problem. In order to get a binary DV, a bit of feature engineering is involved. We will create the DV from Q275 \"***What is the highest educational level that you have attained***?\" (pp.83). All the available information about all of the variables can be found in \"/Documentation/Codebook.pdf\"."
      ],
      "metadata": {
        "id": "tJZ3bAaKZ3Nj"
      }
    },
    {
      "cell_type": "code",
      "source": [
        "# print the counts to the different responses to Q275\n",
        "print(df[\"Q275\"].value_counts().reset_index().sort_values(by=\"Q275\", ascending=False))\n",
        "# create new DV feature, and set to 0\n",
        "df[\"DV_Ed_Binary\"] = 0\n",
        "# define our positive class (higher education)\n",
        "df[\"DV_Ed_Binary\"][(df[\"Q275\"]==7)|(df[\"Q275\"]==8)] =1\n",
        "# set all minus numbers to 'NA'\n",
        "df[\"DV_Ed_Binary\"][df[\"Q275\"]<0] = np.nan\n",
        "# define y\n",
        "y = df[\"DV_Ed_Binary\"]"
      ],
      "metadata": {
        "colab": {
          "base_uri": "https://localhost:8080/"
        },
        "id": "e8BCqcGbZu49",
        "outputId": "73531054-6713-45d7-821b-25184cf41bc3"
      },
      "execution_count": 6,
      "outputs": [
        {
          "output_type": "stream",
          "name": "stdout",
          "text": [
            "    Q275  count\n",
            "8      8    920\n",
            "6      7   4548\n",
            "1      6  13045\n",
            "5      5   6151\n",
            "4      4   7090\n",
            "0      3  19843\n",
            "2      2  10623\n",
            "3      1   9932\n",
            "7      0   4126\n",
            "10    -1    126\n",
            "9     -2    436\n",
            "11    -5     57\n"
          ]
        },
        {
          "output_type": "stream",
          "name": "stderr",
          "text": [
            "<ipython-input-6-a55d59fe49ff>:6: SettingWithCopyWarning: \n",
            "A value is trying to be set on a copy of a slice from a DataFrame\n",
            "\n",
            "See the caveats in the documentation: https://pandas.pydata.org/pandas-docs/stable/user_guide/indexing.html#returning-a-view-versus-a-copy\n",
            "  df[\"DV_Ed_Binary\"][(df[\"Q275\"]==7)|(df[\"Q275\"]==8)] =1\n",
            "<ipython-input-6-a55d59fe49ff>:8: SettingWithCopyWarning: \n",
            "A value is trying to be set on a copy of a slice from a DataFrame\n",
            "\n",
            "See the caveats in the documentation: https://pandas.pydata.org/pandas-docs/stable/user_guide/indexing.html#returning-a-view-versus-a-copy\n",
            "  df[\"DV_Ed_Binary\"][df[\"Q275\"]<0] = np.nan\n"
          ]
        }
      ]
    },
    {
      "cell_type": "code",
      "source": [
        "# look at DV distribution of class labels\n",
        "total = df[\"DV_Ed_Binary\"].count()\n",
        "# negative class labels\n",
        "n_not_further = df[\"DV_Ed_Binary\"].value_counts()[0]\n",
        "perc_not_further = round((n_not_further/total)*100, 2)\n",
        "# positive class labels\n",
        "n_further = df[\"DV_Ed_Binary\"].value_counts()[1]\n",
        "perc_further = round((n_further/total)*100, 2)\n",
        "\n",
        "print(\"Not further education: {} ({}%); Further education: {} ({}%)\" .format(n_not_further, perc_not_further, n_further, perc_further))\n"
      ],
      "metadata": {
        "colab": {
          "base_uri": "https://localhost:8080/"
        },
        "id": "6-hVK6dXemTs",
        "outputId": "88c325ee-7645-4c62-ba61-a3e5f63a5cbc"
      },
      "execution_count": 7,
      "outputs": [
        {
          "output_type": "stream",
          "name": "stdout",
          "text": [
            "Not further education: 70810 (92.83%); Further education: 5468 (7.17%)\n"
          ]
        }
      ]
    },
    {
      "cell_type": "markdown",
      "source": [
        "## 3. Pre-process and Filter Independent Variables (IVs)"
      ],
      "metadata": {
        "id": "jIFqMzOxe3Bb"
      }
    },
    {
      "cell_type": "markdown",
      "source": [
        "- Drop features with lots of missing data\n",
        "- Drop features which are too highly correlated with the DV\n",
        "- Drop features which are meta-data only\n",
        "- Drop features which are highly correlated with each other"
      ],
      "metadata": {
        "id": "WIJQoUa-mod3"
      }
    },
    {
      "cell_type": "markdown",
      "source": [
        "Code all negative numbers as missing (NAs)"
      ],
      "metadata": {
        "id": "YxvfQ30jh6pO"
      }
    },
    {
      "cell_type": "code",
      "source": [
        "# select subset of numerical columns\n",
        "num = df._get_numeric_data()\n",
        "# assign NA to any numerical value less than 0\n",
        "num[num < 0] = np.nan\n",
        "# rejoin to rest of columns (categorical first, then numeric)\n",
        "df = pd.concat([df[df.columns[~df.columns.isin(num.columns)]], num], axis=1)"
      ],
      "metadata": {
        "id": "6f198L3Ghi5m"
      },
      "execution_count": 8,
      "outputs": []
    },
    {
      "cell_type": "code",
      "source": [
        "df.head()"
      ],
      "metadata": {
        "colab": {
          "base_uri": "https://localhost:8080/",
          "height": 478
        },
        "id": "p0BQwFBZqqds",
        "outputId": "b62cfc22-f186-4c7e-8666-93bbb4a70204"
      },
      "execution_count": 9,
      "outputs": [
        {
          "output_type": "execute_result",
          "data": {
            "text/plain": [
              "                       version                        doi B_COUNTRY_ALPHA  \\\n",
              "Unnamed: 0                                                                  \n",
              "1           2-0-0 (2021-07-07)  doi.org/10.14281/18241.13             AND   \n",
              "2           2-0-0 (2021-07-07)  doi.org/10.14281/18241.13             AND   \n",
              "3           2-0-0 (2021-07-07)  doi.org/10.14281/18241.13             AND   \n",
              "4           2-0-0 (2021-07-07)  doi.org/10.14281/18241.13             AND   \n",
              "5           2-0-0 (2021-07-07)  doi.org/10.14281/18241.13             AND   \n",
              "\n",
              "           C_COW_ALPHA LNGE_ISO         Partyname Partyabb cparty cpartyabb  \\\n",
              "Unnamed: 0                                                                    \n",
              "1                  AND       ca               NaN      NaN    NaN       NaN   \n",
              "2                  AND       ca               NaN      NaN    NaN       NaN   \n",
              "3                  AND       ca               NaN      NaN    NaN       NaN   \n",
              "4                  AND       ca  I would not vote      NaN    NaN       NaN   \n",
              "5                  AND       ca               NaN      NaN    NaN       NaN   \n",
              "\n",
              "            A_WAVE  ...  WVS_LR_MedianVoter  WVS_LibCon_MedianVoter  v2psbars  \\\n",
              "Unnamed: 0          ...                                                         \n",
              "1                7  ...                 NaN                     NaN       NaN   \n",
              "2                7  ...                 NaN                     NaN       NaN   \n",
              "3                7  ...                 NaN                     NaN       NaN   \n",
              "4                7  ...                 NaN                     NaN       NaN   \n",
              "5                7  ...                 NaN                     NaN       NaN   \n",
              "\n",
              "            v2psorgs  v2psprbrch  v2psprlnks  v2psplats  v2xnp_client  \\\n",
              "Unnamed: 0                                                              \n",
              "1                NaN         NaN         NaN        NaN           NaN   \n",
              "2                NaN         NaN         NaN        NaN           NaN   \n",
              "3                NaN         NaN         NaN        NaN           NaN   \n",
              "4                NaN         NaN         NaN        NaN           NaN   \n",
              "5                NaN         NaN         NaN        NaN           NaN   \n",
              "\n",
              "            v2xps_party  DV_Ed_Binary  \n",
              "Unnamed: 0                             \n",
              "1                   NaN           0.0  \n",
              "2                   NaN           1.0  \n",
              "3                   NaN           1.0  \n",
              "4                   NaN           0.0  \n",
              "5                   NaN           0.0  \n",
              "\n",
              "[5 rows x 549 columns]"
            ],
            "text/html": [
              "\n",
              "  <div id=\"df-380b2d40-aeb2-4357-93d0-2a53c95bf591\" class=\"colab-df-container\">\n",
              "    <div>\n",
              "<style scoped>\n",
              "    .dataframe tbody tr th:only-of-type {\n",
              "        vertical-align: middle;\n",
              "    }\n",
              "\n",
              "    .dataframe tbody tr th {\n",
              "        vertical-align: top;\n",
              "    }\n",
              "\n",
              "    .dataframe thead th {\n",
              "        text-align: right;\n",
              "    }\n",
              "</style>\n",
              "<table border=\"1\" class=\"dataframe\">\n",
              "  <thead>\n",
              "    <tr style=\"text-align: right;\">\n",
              "      <th></th>\n",
              "      <th>version</th>\n",
              "      <th>doi</th>\n",
              "      <th>B_COUNTRY_ALPHA</th>\n",
              "      <th>C_COW_ALPHA</th>\n",
              "      <th>LNGE_ISO</th>\n",
              "      <th>Partyname</th>\n",
              "      <th>Partyabb</th>\n",
              "      <th>cparty</th>\n",
              "      <th>cpartyabb</th>\n",
              "      <th>A_WAVE</th>\n",
              "      <th>...</th>\n",
              "      <th>WVS_LR_MedianVoter</th>\n",
              "      <th>WVS_LibCon_MedianVoter</th>\n",
              "      <th>v2psbars</th>\n",
              "      <th>v2psorgs</th>\n",
              "      <th>v2psprbrch</th>\n",
              "      <th>v2psprlnks</th>\n",
              "      <th>v2psplats</th>\n",
              "      <th>v2xnp_client</th>\n",
              "      <th>v2xps_party</th>\n",
              "      <th>DV_Ed_Binary</th>\n",
              "    </tr>\n",
              "    <tr>\n",
              "      <th>Unnamed: 0</th>\n",
              "      <th></th>\n",
              "      <th></th>\n",
              "      <th></th>\n",
              "      <th></th>\n",
              "      <th></th>\n",
              "      <th></th>\n",
              "      <th></th>\n",
              "      <th></th>\n",
              "      <th></th>\n",
              "      <th></th>\n",
              "      <th></th>\n",
              "      <th></th>\n",
              "      <th></th>\n",
              "      <th></th>\n",
              "      <th></th>\n",
              "      <th></th>\n",
              "      <th></th>\n",
              "      <th></th>\n",
              "      <th></th>\n",
              "      <th></th>\n",
              "      <th></th>\n",
              "    </tr>\n",
              "  </thead>\n",
              "  <tbody>\n",
              "    <tr>\n",
              "      <th>1</th>\n",
              "      <td>2-0-0 (2021-07-07)</td>\n",
              "      <td>doi.org/10.14281/18241.13</td>\n",
              "      <td>AND</td>\n",
              "      <td>AND</td>\n",
              "      <td>ca</td>\n",
              "      <td>NaN</td>\n",
              "      <td>NaN</td>\n",
              "      <td>NaN</td>\n",
              "      <td>NaN</td>\n",
              "      <td>7</td>\n",
              "      <td>...</td>\n",
              "      <td>NaN</td>\n",
              "      <td>NaN</td>\n",
              "      <td>NaN</td>\n",
              "      <td>NaN</td>\n",
              "      <td>NaN</td>\n",
              "      <td>NaN</td>\n",
              "      <td>NaN</td>\n",
              "      <td>NaN</td>\n",
              "      <td>NaN</td>\n",
              "      <td>0.0</td>\n",
              "    </tr>\n",
              "    <tr>\n",
              "      <th>2</th>\n",
              "      <td>2-0-0 (2021-07-07)</td>\n",
              "      <td>doi.org/10.14281/18241.13</td>\n",
              "      <td>AND</td>\n",
              "      <td>AND</td>\n",
              "      <td>ca</td>\n",
              "      <td>NaN</td>\n",
              "      <td>NaN</td>\n",
              "      <td>NaN</td>\n",
              "      <td>NaN</td>\n",
              "      <td>7</td>\n",
              "      <td>...</td>\n",
              "      <td>NaN</td>\n",
              "      <td>NaN</td>\n",
              "      <td>NaN</td>\n",
              "      <td>NaN</td>\n",
              "      <td>NaN</td>\n",
              "      <td>NaN</td>\n",
              "      <td>NaN</td>\n",
              "      <td>NaN</td>\n",
              "      <td>NaN</td>\n",
              "      <td>1.0</td>\n",
              "    </tr>\n",
              "    <tr>\n",
              "      <th>3</th>\n",
              "      <td>2-0-0 (2021-07-07)</td>\n",
              "      <td>doi.org/10.14281/18241.13</td>\n",
              "      <td>AND</td>\n",
              "      <td>AND</td>\n",
              "      <td>ca</td>\n",
              "      <td>NaN</td>\n",
              "      <td>NaN</td>\n",
              "      <td>NaN</td>\n",
              "      <td>NaN</td>\n",
              "      <td>7</td>\n",
              "      <td>...</td>\n",
              "      <td>NaN</td>\n",
              "      <td>NaN</td>\n",
              "      <td>NaN</td>\n",
              "      <td>NaN</td>\n",
              "      <td>NaN</td>\n",
              "      <td>NaN</td>\n",
              "      <td>NaN</td>\n",
              "      <td>NaN</td>\n",
              "      <td>NaN</td>\n",
              "      <td>1.0</td>\n",
              "    </tr>\n",
              "    <tr>\n",
              "      <th>4</th>\n",
              "      <td>2-0-0 (2021-07-07)</td>\n",
              "      <td>doi.org/10.14281/18241.13</td>\n",
              "      <td>AND</td>\n",
              "      <td>AND</td>\n",
              "      <td>ca</td>\n",
              "      <td>I would not vote</td>\n",
              "      <td>NaN</td>\n",
              "      <td>NaN</td>\n",
              "      <td>NaN</td>\n",
              "      <td>7</td>\n",
              "      <td>...</td>\n",
              "      <td>NaN</td>\n",
              "      <td>NaN</td>\n",
              "      <td>NaN</td>\n",
              "      <td>NaN</td>\n",
              "      <td>NaN</td>\n",
              "      <td>NaN</td>\n",
              "      <td>NaN</td>\n",
              "      <td>NaN</td>\n",
              "      <td>NaN</td>\n",
              "      <td>0.0</td>\n",
              "    </tr>\n",
              "    <tr>\n",
              "      <th>5</th>\n",
              "      <td>2-0-0 (2021-07-07)</td>\n",
              "      <td>doi.org/10.14281/18241.13</td>\n",
              "      <td>AND</td>\n",
              "      <td>AND</td>\n",
              "      <td>ca</td>\n",
              "      <td>NaN</td>\n",
              "      <td>NaN</td>\n",
              "      <td>NaN</td>\n",
              "      <td>NaN</td>\n",
              "      <td>7</td>\n",
              "      <td>...</td>\n",
              "      <td>NaN</td>\n",
              "      <td>NaN</td>\n",
              "      <td>NaN</td>\n",
              "      <td>NaN</td>\n",
              "      <td>NaN</td>\n",
              "      <td>NaN</td>\n",
              "      <td>NaN</td>\n",
              "      <td>NaN</td>\n",
              "      <td>NaN</td>\n",
              "      <td>0.0</td>\n",
              "    </tr>\n",
              "  </tbody>\n",
              "</table>\n",
              "<p>5 rows × 549 columns</p>\n",
              "</div>\n",
              "    <div class=\"colab-df-buttons\">\n",
              "\n",
              "  <div class=\"colab-df-container\">\n",
              "    <button class=\"colab-df-convert\" onclick=\"convertToInteractive('df-380b2d40-aeb2-4357-93d0-2a53c95bf591')\"\n",
              "            title=\"Convert this dataframe to an interactive table.\"\n",
              "            style=\"display:none;\">\n",
              "\n",
              "  <svg xmlns=\"http://www.w3.org/2000/svg\" height=\"24px\" viewBox=\"0 -960 960 960\">\n",
              "    <path d=\"M120-120v-720h720v720H120Zm60-500h600v-160H180v160Zm220 220h160v-160H400v160Zm0 220h160v-160H400v160ZM180-400h160v-160H180v160Zm440 0h160v-160H620v160ZM180-180h160v-160H180v160Zm440 0h160v-160H620v160Z\"/>\n",
              "  </svg>\n",
              "    </button>\n",
              "\n",
              "  <style>\n",
              "    .colab-df-container {\n",
              "      display:flex;\n",
              "      gap: 12px;\n",
              "    }\n",
              "\n",
              "    .colab-df-convert {\n",
              "      background-color: #E8F0FE;\n",
              "      border: none;\n",
              "      border-radius: 50%;\n",
              "      cursor: pointer;\n",
              "      display: none;\n",
              "      fill: #1967D2;\n",
              "      height: 32px;\n",
              "      padding: 0 0 0 0;\n",
              "      width: 32px;\n",
              "    }\n",
              "\n",
              "    .colab-df-convert:hover {\n",
              "      background-color: #E2EBFA;\n",
              "      box-shadow: 0px 1px 2px rgba(60, 64, 67, 0.3), 0px 1px 3px 1px rgba(60, 64, 67, 0.15);\n",
              "      fill: #174EA6;\n",
              "    }\n",
              "\n",
              "    .colab-df-buttons div {\n",
              "      margin-bottom: 4px;\n",
              "    }\n",
              "\n",
              "    [theme=dark] .colab-df-convert {\n",
              "      background-color: #3B4455;\n",
              "      fill: #D2E3FC;\n",
              "    }\n",
              "\n",
              "    [theme=dark] .colab-df-convert:hover {\n",
              "      background-color: #434B5C;\n",
              "      box-shadow: 0px 1px 3px 1px rgba(0, 0, 0, 0.15);\n",
              "      filter: drop-shadow(0px 1px 2px rgba(0, 0, 0, 0.3));\n",
              "      fill: #FFFFFF;\n",
              "    }\n",
              "  </style>\n",
              "\n",
              "    <script>\n",
              "      const buttonEl =\n",
              "        document.querySelector('#df-380b2d40-aeb2-4357-93d0-2a53c95bf591 button.colab-df-convert');\n",
              "      buttonEl.style.display =\n",
              "        google.colab.kernel.accessAllowed ? 'block' : 'none';\n",
              "\n",
              "      async function convertToInteractive(key) {\n",
              "        const element = document.querySelector('#df-380b2d40-aeb2-4357-93d0-2a53c95bf591');\n",
              "        const dataTable =\n",
              "          await google.colab.kernel.invokeFunction('convertToInteractive',\n",
              "                                                    [key], {});\n",
              "        if (!dataTable) return;\n",
              "\n",
              "        const docLinkHtml = 'Like what you see? Visit the ' +\n",
              "          '<a target=\"_blank\" href=https://colab.research.google.com/notebooks/data_table.ipynb>data table notebook</a>'\n",
              "          + ' to learn more about interactive tables.';\n",
              "        element.innerHTML = '';\n",
              "        dataTable['output_type'] = 'display_data';\n",
              "        await google.colab.output.renderOutput(dataTable, element);\n",
              "        const docLink = document.createElement('div');\n",
              "        docLink.innerHTML = docLinkHtml;\n",
              "        element.appendChild(docLink);\n",
              "      }\n",
              "    </script>\n",
              "  </div>\n",
              "\n",
              "\n",
              "<div id=\"df-80d949c4-c18b-43ad-8d29-a2a7957144eb\">\n",
              "  <button class=\"colab-df-quickchart\" onclick=\"quickchart('df-80d949c4-c18b-43ad-8d29-a2a7957144eb')\"\n",
              "            title=\"Suggest charts\"\n",
              "            style=\"display:none;\">\n",
              "\n",
              "<svg xmlns=\"http://www.w3.org/2000/svg\" height=\"24px\"viewBox=\"0 0 24 24\"\n",
              "     width=\"24px\">\n",
              "    <g>\n",
              "        <path d=\"M19 3H5c-1.1 0-2 .9-2 2v14c0 1.1.9 2 2 2h14c1.1 0 2-.9 2-2V5c0-1.1-.9-2-2-2zM9 17H7v-7h2v7zm4 0h-2V7h2v10zm4 0h-2v-4h2v4z\"/>\n",
              "    </g>\n",
              "</svg>\n",
              "  </button>\n",
              "\n",
              "<style>\n",
              "  .colab-df-quickchart {\n",
              "      --bg-color: #E8F0FE;\n",
              "      --fill-color: #1967D2;\n",
              "      --hover-bg-color: #E2EBFA;\n",
              "      --hover-fill-color: #174EA6;\n",
              "      --disabled-fill-color: #AAA;\n",
              "      --disabled-bg-color: #DDD;\n",
              "  }\n",
              "\n",
              "  [theme=dark] .colab-df-quickchart {\n",
              "      --bg-color: #3B4455;\n",
              "      --fill-color: #D2E3FC;\n",
              "      --hover-bg-color: #434B5C;\n",
              "      --hover-fill-color: #FFFFFF;\n",
              "      --disabled-bg-color: #3B4455;\n",
              "      --disabled-fill-color: #666;\n",
              "  }\n",
              "\n",
              "  .colab-df-quickchart {\n",
              "    background-color: var(--bg-color);\n",
              "    border: none;\n",
              "    border-radius: 50%;\n",
              "    cursor: pointer;\n",
              "    display: none;\n",
              "    fill: var(--fill-color);\n",
              "    height: 32px;\n",
              "    padding: 0;\n",
              "    width: 32px;\n",
              "  }\n",
              "\n",
              "  .colab-df-quickchart:hover {\n",
              "    background-color: var(--hover-bg-color);\n",
              "    box-shadow: 0 1px 2px rgba(60, 64, 67, 0.3), 0 1px 3px 1px rgba(60, 64, 67, 0.15);\n",
              "    fill: var(--button-hover-fill-color);\n",
              "  }\n",
              "\n",
              "  .colab-df-quickchart-complete:disabled,\n",
              "  .colab-df-quickchart-complete:disabled:hover {\n",
              "    background-color: var(--disabled-bg-color);\n",
              "    fill: var(--disabled-fill-color);\n",
              "    box-shadow: none;\n",
              "  }\n",
              "\n",
              "  .colab-df-spinner {\n",
              "    border: 2px solid var(--fill-color);\n",
              "    border-color: transparent;\n",
              "    border-bottom-color: var(--fill-color);\n",
              "    animation:\n",
              "      spin 1s steps(1) infinite;\n",
              "  }\n",
              "\n",
              "  @keyframes spin {\n",
              "    0% {\n",
              "      border-color: transparent;\n",
              "      border-bottom-color: var(--fill-color);\n",
              "      border-left-color: var(--fill-color);\n",
              "    }\n",
              "    20% {\n",
              "      border-color: transparent;\n",
              "      border-left-color: var(--fill-color);\n",
              "      border-top-color: var(--fill-color);\n",
              "    }\n",
              "    30% {\n",
              "      border-color: transparent;\n",
              "      border-left-color: var(--fill-color);\n",
              "      border-top-color: var(--fill-color);\n",
              "      border-right-color: var(--fill-color);\n",
              "    }\n",
              "    40% {\n",
              "      border-color: transparent;\n",
              "      border-right-color: var(--fill-color);\n",
              "      border-top-color: var(--fill-color);\n",
              "    }\n",
              "    60% {\n",
              "      border-color: transparent;\n",
              "      border-right-color: var(--fill-color);\n",
              "    }\n",
              "    80% {\n",
              "      border-color: transparent;\n",
              "      border-right-color: var(--fill-color);\n",
              "      border-bottom-color: var(--fill-color);\n",
              "    }\n",
              "    90% {\n",
              "      border-color: transparent;\n",
              "      border-bottom-color: var(--fill-color);\n",
              "    }\n",
              "  }\n",
              "</style>\n",
              "\n",
              "  <script>\n",
              "    async function quickchart(key) {\n",
              "      const quickchartButtonEl =\n",
              "        document.querySelector('#' + key + ' button');\n",
              "      quickchartButtonEl.disabled = true;  // To prevent multiple clicks.\n",
              "      quickchartButtonEl.classList.add('colab-df-spinner');\n",
              "      try {\n",
              "        const charts = await google.colab.kernel.invokeFunction(\n",
              "            'suggestCharts', [key], {});\n",
              "      } catch (error) {\n",
              "        console.error('Error during call to suggestCharts:', error);\n",
              "      }\n",
              "      quickchartButtonEl.classList.remove('colab-df-spinner');\n",
              "      quickchartButtonEl.classList.add('colab-df-quickchart-complete');\n",
              "    }\n",
              "    (() => {\n",
              "      let quickchartButtonEl =\n",
              "        document.querySelector('#df-80d949c4-c18b-43ad-8d29-a2a7957144eb button');\n",
              "      quickchartButtonEl.style.display =\n",
              "        google.colab.kernel.accessAllowed ? 'block' : 'none';\n",
              "    })();\n",
              "  </script>\n",
              "</div>\n",
              "\n",
              "    </div>\n",
              "  </div>\n"
            ],
            "application/vnd.google.colaboratory.intrinsic+json": {
              "type": "dataframe",
              "variable_name": "df"
            }
          },
          "metadata": {},
          "execution_count": 9
        }
      ]
    },
    {
      "cell_type": "markdown",
      "source": [
        "Produce descriptives on missingness (counts and percentages) for each variable."
      ],
      "metadata": {
        "id": "FsGAvslTi6qe"
      }
    },
    {
      "cell_type": "code",
      "source": [
        "missing_sum = pd.DataFrame(df.isna().sum())\n",
        "missing_perc = round((missing_sum / len(df)) * 100, 2)\n",
        "missing_summary = pd.concat([missing_sum, missing_perc], axis=1)\n",
        "missing_summary.reset_index(inplace=True)\n",
        "missing_summary.columns = [\"Variable\", \"Missing_Sum\", \"Missing_Perc\"]\n",
        "missing_summary.sort_values(by='Missing_Perc', ascending=False, inplace=True)\n",
        "\n",
        "pd.set_option(\"display.max_rows\", None, \"display.max_columns\", None)\n",
        "print(missing_summary[0:25])"
      ],
      "metadata": {
        "colab": {
          "base_uri": "https://localhost:8080/"
        },
        "id": "hThuxCJHjBLD",
        "outputId": "00468b8c-3fbd-4715-f205-62ff3b52c6b8"
      },
      "execution_count": 10,
      "outputs": [
        {
          "output_type": "stream",
          "name": "stdout",
          "text": [
            "                Variable  Missing_Sum  Missing_Perc\n",
            "136              Q82_OAS        75691         98.43\n",
            "137            Q82_SAARC        75485         98.16\n",
            "140             Q82_UNDP        74596         97.01\n",
            "139              Q82_TLC        74428         96.79\n",
            "135            Q82_NAFTA        74364         96.71\n",
            "129     Q82_AFRICANUNION        73780         95.95\n",
            "126             Q82_APEC        73521         95.61\n",
            "138              Q82_SCO        73298         95.32\n",
            "132         Q82_GULFCOOP        72670         94.50\n",
            "133          Q82_ISLCOOP        72423         94.18\n",
            "130              Q82_CIS        72376         94.12\n",
            "127       Q82_ARABLEAGUE        72187         93.87\n",
            "134         Q82_MERCOSUR        69089         89.85\n",
            "128            Q82_ASEAN        65540         85.23\n",
            "125               Q82_EU        64015         83.25\n",
            "544           v2psprlnks        61133         79.50\n",
            "523  Type_Partysize_seat        59664         77.59\n",
            "522  Type_Partysize_vote        57511         74.79\n",
            "545            v2psplats        57203         74.39\n",
            "543           v2psprbrch        57066         74.21\n",
            "541             v2psbars        56907         74.00\n",
            "518        ID_PartyFacts        56250         73.15\n",
            "542             v2psorgs        56210         73.10\n",
            "531              GPS_V13        55489         72.16\n",
            "524         GPS_V4_Scale        55291         71.90\n"
          ]
        }
      ]
    },
    {
      "cell_type": "markdown",
      "source": [
        "Plot missing percentages as a histogram"
      ],
      "metadata": {
        "id": "7l_RNqoPjPX3"
      }
    },
    {
      "cell_type": "code",
      "source": [
        "def plot_hist(x, bins, title, xlim=None, ylim=None, color =\"skyblue\",\n",
        "              fig_size=(20,20), xlab=\"\", ylab='', fontsize=10):\n",
        "    \"\"\"Plots a histogram with a red mean line (+/- 1SD in green dashes)\n",
        "    and a 95 and 5 percentile dotted lines in blue.\"\"\"\n",
        "    plt.figure(figsize=fig_size)\n",
        "    if xlim != None:\n",
        "        plt.xlim(xlim)\n",
        "    if ylim != None:\n",
        "        plt.ylim(ylim)\n",
        "    if (x.isnull().all() == False):\n",
        "        plt.hist(x, bins = bins, color = color, alpha=0.5)\n",
        "        plt.title(title, fontsize=fontsize)\n",
        "        plt.xlabel(xlab, fontsize=fontsize)\n",
        "        plt.ylabel(ylab, fontsize=fontsize)\n",
        "        if (x.dtype == \"float64\") or (x.dtype == \"int\"):\n",
        "                plt.axvline(x=np.mean(x) - np.std(x), ls=\"--\", color='#2ca02c', alpha=0.7)\n",
        "                plt.axvline(x=np.mean(x) + np.std(x), ls=\"--\", color='#2ca02c', alpha=0.7)\n",
        "                plt.axvline(x=np.mean(x), ls=\"-\", color='red', alpha=0.7)\n",
        "                plt.axvline(x=np.percentile(x, 5), ls=\"dotted\", color='lightblue', alpha=0.7)\n",
        "                plt.axvline(x=np.percentile(x, 95), ls=\"dotted\", color='lightblue', alpha=0.7)\n",
        "                plt.tight_layout()\n",
        "                plt.show()\n",
        "        else:\n",
        "            print(\"not int or float\")\n",
        "    else:\n",
        "            print(\"nas\")\n",
        "\n",
        "    return\n",
        "\n",
        "plot_hist(fig_size=(5, 5),\n",
        "          bins=50,\n",
        "          fontsize=12,\n",
        "          x=missing_summary[\"Missing_Perc\"],\n",
        "          title=\"Missing Data Percentages for Variables\",\n",
        "          xlab=\"Missing Data Percentage (%)\",\n",
        "          ylab=\"Frequency\")\n"
      ],
      "metadata": {
        "colab": {
          "base_uri": "https://localhost:8080/",
          "height": 507
        },
        "id": "BMJJdA1JjOBv",
        "outputId": "114e5140-cb1e-45da-b840-08e412bfbdaa"
      },
      "execution_count": 11,
      "outputs": [
        {
          "output_type": "display_data",
          "data": {
            "text/plain": [
              "<Figure size 500x500 with 1 Axes>"
            ],
            "image/png": "[encoded data removed]"
          },
          "metadata": {}
        }
      ]
    },
    {
      "cell_type": "markdown",
      "source": [
        "Choose cut off percentage as a way to drop variables. At what percentage is the missing data too high?"
      ],
      "metadata": {
        "id": "HPBNI09Tl8xt"
      }
    },
    {
      "cell_type": "code",
      "source": [
        "# choose cut-off\n",
        "cut_off = 2"
      ],
      "metadata": {
        "id": "vUuUQXblmNcc"
      },
      "execution_count": 12,
      "outputs": []
    },
    {
      "cell_type": "code",
      "source": [
        "# drop variables with > missing data than cut-off value\n",
        "drop_vars = missing_summary[\"Variable\"][missing_summary[\"Missing_Perc\"]>=cut_off]\n",
        "df.drop(drop_vars, axis=1, inplace=True)\n",
        "\n",
        "print(\"Dropped {} variables due to missing data. {} variables remaining\".format(len(drop_vars), df.shape[1]))\n"
      ],
      "metadata": {
        "colab": {
          "base_uri": "https://localhost:8080/"
        },
        "id": "M0YXQOSRmVlV",
        "outputId": "6ed43574-17d9-4938-f4d6-9847cf049d05"
      },
      "execution_count": 13,
      "outputs": [
        {
          "output_type": "stream",
          "name": "stdout",
          "text": [
            "Dropped 369 variables due to missing data. 180 variables remaining\n"
          ]
        }
      ]
    },
    {
      "cell_type": "markdown",
      "source": [
        "Certain questions are repeats or recoded versions of the DV. These need to be removed from out IV pool so we are not predicting like with like."
      ],
      "metadata": {
        "id": "uUP6tSKIoA5H"
      }
    },
    {
      "cell_type": "code",
      "source": [
        "remove_too_similar = ['Q275', 'Q275R', 'Q275A']\n",
        "\n",
        "dropped_vars = 0\n",
        "for var in remove_too_similar:\n",
        "    if var in list(df.columns):\n",
        "        df.drop(var, axis=1, inplace=True)\n",
        "        dropped_vars = dropped_vars + 1\n",
        "\n",
        "print(\"Dropped {} variables due to similarity with DV. {} variables remaining\".format(dropped_vars, df.shape[1]))\n"
      ],
      "metadata": {
        "colab": {
          "base_uri": "https://localhost:8080/"
        },
        "id": "NAKLc4gjoNoO",
        "outputId": "a292daf4-81ee-4bca-c4ff-4896915dec99"
      },
      "execution_count": 14,
      "outputs": [
        {
          "output_type": "stream",
          "name": "stdout",
          "text": [
            "Dropped 2 variables due to similarity with DV. 178 variables remaining\n"
          ]
        }
      ]
    },
    {
      "cell_type": "markdown",
      "source": [
        "Check other features correlations with the DV in case of accidental information leakage."
      ],
      "metadata": {
        "id": "Vpzzc3O8o5u0"
      }
    },
    {
      "cell_type": "code",
      "source": [
        "# create a df of correlations of IVs to DV\n",
        "corr_dv = pd.DataFrame(df.corrwith(other = df[\"DV_Ed_Binary\"], method='pearson', numeric_only=True))\n",
        "# rename column\n",
        "corr_dv.columns = [\"Pearson_r\"]\n",
        "# calculate absolute correlation\n",
        "corr_dv['Absolute_corr'] = abs(corr_dv[\"Pearson_r\"])\n",
        "# sort data frame on absolute correlation (highest first)\n",
        "corr_dv.sort_values(inplace=True, by='Absolute_corr', axis=0, ascending=False)\n",
        "# round to 4 decimal places\n",
        "corr_dv['Absolute_corr'] = round(corr_dv['Absolute_corr'], 4)\n",
        "print(corr_dv[0:20])"
      ],
      "metadata": {
        "colab": {
          "base_uri": "https://localhost:8080/"
        },
        "id": "KuEfbMACo0f7",
        "outputId": "fff20c75-141d-4e8f-9e5c-e7a205a4ae92"
      },
      "execution_count": 15,
      "outputs": [
        {
          "output_type": "stream",
          "name": "stderr",
          "text": [
            "/usr/local/lib/python3.10/dist-packages/numpy/lib/function_base.py:2897: RuntimeWarning: invalid value encountered in divide\n",
            "  c /= stddev[:, None]\n",
            "/usr/local/lib/python3.10/dist-packages/numpy/lib/function_base.py:2898: RuntimeWarning: invalid value encountered in divide\n",
            "  c /= stddev[None, :]\n"
          ]
        },
        {
          "output_type": "stream",
          "name": "stdout",
          "text": [
            "              Pearson_r  Absolute_corr\n",
            "DV_Ed_Binary   1.000000         1.0000\n",
            "deathrate      0.164325         0.1643\n",
            "Q100           0.143717         0.1437\n",
            "Q206          -0.135377         0.1354\n",
            "resemaval      0.134479         0.1345\n",
            "choice         0.122263         0.1223\n",
            "landWB         0.120780         0.1208\n",
            "Q279          -0.118341         0.1183\n",
            "Q41            0.102178         0.1022\n",
            "I_WOMJOB       0.098165         0.0982\n",
            "Q33            0.098165         0.0982\n",
            "Q6             0.098109         0.0981\n",
            "I_RELIGIMP     0.097953         0.0980\n",
            "Q200          -0.097953         0.0980\n",
            "Q185           0.096547         0.0965\n",
            "I_DIVORLIB     0.096547         0.0965\n",
            "equality       0.094132         0.0941\n",
            "Q57           -0.091211         0.0912\n",
            "Q7             0.090100         0.0901\n",
            "Q54            0.089208         0.0892\n"
          ]
        }
      ]
    },
    {
      "cell_type": "markdown",
      "source": [
        "Remove features which are meta-data features only"
      ],
      "metadata": {
        "id": "SVpgTGHup6tJ"
      }
    },
    {
      "cell_type": "code",
      "source": [
        "meta_data_only = [\"version\", \"doi\", \"E1_LITERACY\", \"A_WAVE\", \"A_STUDY\", \"B_COUNTRY\", \"B_COUNTRY_ALPHA\", \"C_COW_NUM\",\n",
        "                  \"C_COW_ALPHA\", \"A_YEAR\", \"D_INTERVIEW\", \"Partyname\", \"Partyabb\", \"cparty\", \"cpartyabb\",\n",
        "                  \"J_INTDATE\", \"FW_END\", \"FW_START\", \"K_TIME_START\", \"K_TIME_END\", \"K_DURATION\", \"Q_MODE\", \"N_REGION_ISO\",\n",
        "                  \"N_REGION_WVS\", \"N_TOWN\", \"G_TOWNSIZE\", \"I_PSU\", \"O1_LONGITUDE\", \"O2_LATITUDE\", \"S_INTLANGUAGE\",\n",
        "                  \"LNGE_ISO\", \"W_WEIGHT\", \"S018\", \"pwght\", \"S025\"]"
      ],
      "metadata": {
        "id": "91leLLGTqKrE"
      },
      "execution_count": 16,
      "outputs": []
    },
    {
      "cell_type": "code",
      "source": [
        "dropped_vars=0\n",
        "for var in meta_data_only:\n",
        "    if var in list(df.columns):\n",
        "        df.drop(var, axis=1, inplace=True)\n",
        "        dropped_vars = dropped_vars+1\n",
        "\n",
        "# define X\n",
        "X = df.drop('DV_Ed_Binary', axis=1)\n",
        "\n",
        "print(\"Dropped {} meta variables. {} independent variables remaining\".format(dropped_vars, X.shape[1]))"
      ],
      "metadata": {
        "colab": {
          "base_uri": "https://localhost:8080/"
        },
        "id": "azlp49ZTqXb3",
        "outputId": "e851dd28-fc93-4123-e2fe-85ffb1e0d367"
      },
      "execution_count": 17,
      "outputs": [
        {
          "output_type": "stream",
          "name": "stdout",
          "text": [
            "Dropped 20 meta variables. 157 independent variables remaining\n"
          ]
        }
      ]
    },
    {
      "cell_type": "markdown",
      "source": [
        "Check for extreme multicollinearity in X"
      ],
      "metadata": {
        "id": "LWX1Sigqq9un"
      }
    },
    {
      "cell_type": "code",
      "source": [
        "# create correlation matrix\n",
        "corr_iv = X.corr(method='pearson', min_periods=100).abs()\n",
        "\n",
        "# drop repetitious pairs (diagonals and below in matrix):\n",
        "corr_iv = (corr_iv.where(np.triu(np.ones(corr_iv.shape), k=1).astype(np.bool_))\n",
        "                  .stack()\n",
        "                  .sort_values(ascending=False))\n",
        "\n",
        "# save as a df\n",
        "corr_iv = pd.DataFrame(corr_iv)\n",
        "# rename col\n",
        "corr_iv.columns = [\"Absolute_corr\"]\n",
        "print(corr_iv[0:25])"
      ],
      "metadata": {
        "colab": {
          "base_uri": "https://localhost:8080/"
        },
        "id": "0xT-vH2_qXdw",
        "outputId": "58c5df3a-d1ee-4122-fa10-3060abdb43c2"
      },
      "execution_count": 19,
      "outputs": [
        {
          "output_type": "stream",
          "name": "stdout",
          "text": [
            "                        Absolute_corr\n",
            "Q17        I_NONOBED         1.000000\n",
            "Q33        I_WOMJOB          1.000000\n",
            "Q8         I_INDEP           1.000000\n",
            "Q11        I_IMAGIN          1.000000\n",
            "Q171       I_RELIGPRAC       1.000000\n",
            "Q185       I_DIVORLIB        1.000000\n",
            "Q27        I_DEVOUT          0.999988\n",
            "Q6         I_RELIGIMP        0.999979\n",
            "Q30        I_WOMEDU          0.999949\n",
            "GDPpercap1 GDPpercap2        0.999834\n",
            "popWB1990  popWB2000         0.999650\n",
            "popWB2000  popWB2019         0.998299\n",
            "Q261       Q262              0.997759\n",
            "popWB1990  popWB2019         0.996525\n",
            "Q262       x003R             0.977363\n",
            "Q261       x003R             0.975403\n",
            "Q262       X003R2            0.909539\n",
            "Q261       X003R2            0.907829\n",
            "X003R2     x003R             0.899869\n",
            "I_NORM2    relativism        0.866147\n",
            "I_DIVORLIB choice            0.854526\n",
            "Q185       choice            0.854526\n",
            "I_NORM3    relativism        0.836688\n",
            "Q6         disbelief         0.831311\n",
            "I_RELIGIMP disbelief         0.831221\n"
          ]
        }
      ]
    },
    {
      "cell_type": "markdown",
      "source": [
        "Plot distributions of correlations in a histogram to visualise how much of an issue multicollinearity is in our data"
      ],
      "metadata": {
        "id": "m0EJRN61rYnE"
      }
    },
    {
      "cell_type": "code",
      "source": [
        "plot_hist(fig_size=(5, 5),\n",
        "          bins=500,\n",
        "          fontsize=12,\n",
        "          x=corr_iv[\"Absolute_corr\"],\n",
        "          title=\"Correlations between independent variables\",\n",
        "          xlab=\"Pearson r\",\n",
        "          ylab=\"Frequency\")"
      ],
      "metadata": {
        "colab": {
          "base_uri": "https://localhost:8080/",
          "height": 507
        },
        "id": "VbClHPa7rXYb",
        "outputId": "72adbec1-1cc6-4594-aed5-8d62f90d8e68"
      },
      "execution_count": 20,
      "outputs": [
        {
          "output_type": "display_data",
          "data": {
            "text/plain": [
              "<Figure size 500x500 with 1 Axes>"
            ],
            "image/png": "[encoded data removed]"
          },
          "metadata": {}
        }
      ]
    },
    {
      "cell_type": "markdown",
      "source": [
        "Remove correlated variables above a certain threshold"
      ],
      "metadata": {
        "id": "soZGo65MrwZX"
      }
    },
    {
      "cell_type": "code",
      "source": [
        "# set threshold\n",
        "colinear_threshold = 0.95"
      ],
      "metadata": {
        "id": "le3UIztksBp_"
      },
      "execution_count": 21,
      "outputs": []
    },
    {
      "cell_type": "code",
      "source": [
        "# create df of correlations above threshold\n",
        "colinear_df = corr_iv[corr_iv[\"Absolute_corr\"] > colinear_threshold]\n",
        "colinear_df.reset_index(inplace=True)\n",
        "colinear_df.columns = [\"Var_1\", \"Var_2\", \"Absolute_corr\"]\n",
        "print(colinear_df)"
      ],
      "metadata": {
        "colab": {
          "base_uri": "https://localhost:8080/"
        },
        "id": "2uFJfQrWsRAC",
        "outputId": "4590f3c6-103a-4c7c-9aa2-34f8a24f5de8"
      },
      "execution_count": 22,
      "outputs": [
        {
          "output_type": "stream",
          "name": "stdout",
          "text": [
            "         Var_1        Var_2  Absolute_corr\n",
            "0          Q17    I_NONOBED       1.000000\n",
            "1          Q33     I_WOMJOB       1.000000\n",
            "2           Q8      I_INDEP       1.000000\n",
            "3          Q11     I_IMAGIN       1.000000\n",
            "4         Q171  I_RELIGPRAC       1.000000\n",
            "5         Q185   I_DIVORLIB       1.000000\n",
            "6          Q27     I_DEVOUT       0.999988\n",
            "7           Q6   I_RELIGIMP       0.999979\n",
            "8          Q30     I_WOMEDU       0.999949\n",
            "9   GDPpercap1   GDPpercap2       0.999834\n",
            "10   popWB1990    popWB2000       0.999650\n",
            "11   popWB2000    popWB2019       0.998299\n",
            "12        Q261         Q262       0.997759\n",
            "13   popWB1990    popWB2019       0.996525\n",
            "14        Q262        x003R       0.977363\n",
            "15        Q261        x003R       0.975403\n"
          ]
        }
      ]
    },
    {
      "cell_type": "markdown",
      "source": [
        "In practice we would go through the different variables and work out which ones we would like to keep based on the data quality and the research question. For now, we will just arbitrarily remove half."
      ],
      "metadata": {
        "id": "-jBZUPGQYHQ-"
      }
    },
    {
      "cell_type": "code",
      "source": [
        "# for now, arbitrarily keep only first feature\n",
        "drops = colinear_df[\"Var_2\"]\n",
        "X.drop(drops, inplace=True, axis=1)\n",
        "\n",
        "print(\"Dropped {} variables due to replication. {} independent variables remaining\".format(len(drops), X.shape[1]))\n"
      ],
      "metadata": {
        "colab": {
          "base_uri": "https://localhost:8080/"
        },
        "id": "ur4STVSLtdl5",
        "outputId": "d0434b46-e610-4d71-b6aa-02fda0715aa3"
      },
      "execution_count": 23,
      "outputs": [
        {
          "output_type": "stream",
          "name": "stdout",
          "text": [
            "Dropped 16 variables due to replication. 143 independent variables remaining\n"
          ]
        }
      ]
    },
    {
      "cell_type": "markdown",
      "source": [
        "# 4. Further pruning of the sample"
      ],
      "metadata": {
        "id": "6yf7yJYxnCj3"
      }
    },
    {
      "cell_type": "markdown",
      "source": [
        "- Drop individuals who have a lot of missing data\n",
        "- Create a **balanced** sub-sample"
      ],
      "metadata": {
        "id": "uV8zBXzfnC3d"
      }
    },
    {
      "cell_type": "markdown",
      "source": [
        "Remove individuals with no DV information"
      ],
      "metadata": {
        "id": "863fc6LL0nKP"
      }
    },
    {
      "cell_type": "code",
      "source": [
        "# reconstruct new X and y df\n",
        "y_df = pd.DataFrame(y, columns=['DV_Ed_Binary'])\n",
        "X_and_y = pd.concat([X, y_df], axis=1)\n",
        "# remove all individuals who we don't have y infomation for\n",
        "X_and_y.dropna(axis=0, how='any', subset=[\"DV_Ed_Binary\"], inplace=True)\n",
        "# redefine X and y\n",
        "X = X_and_y.drop(\"DV_Ed_Binary\", axis=1)\n",
        "y = X_and_y[\"DV_Ed_Binary\"]"
      ],
      "metadata": {
        "id": "SlISj8uczoUz"
      },
      "execution_count": 24,
      "outputs": []
    },
    {
      "cell_type": "markdown",
      "source": [
        "Look at missing data at the inidvidal (row) level"
      ],
      "metadata": {
        "id": "-vzWAVVkzsNC"
      }
    },
    {
      "cell_type": "code",
      "source": [
        "# create df consisting of counts of NAs for each individual\n",
        "missing_indiv_level_df = pd.DataFrame(X.isnull().sum(axis=1))\n",
        "# calculate percentage\n",
        "missing_indiv_level_df[\"Percentage\"] = round((missing_indiv_level_df[0] / X.shape[1]) * 100, 4)\n",
        "# sort by percentage\n",
        "missing_indiv_level_df.sort_values(by=\"Percentage\", ascending=False, inplace=True)\n",
        "print(missing_indiv_level_df[0:25])"
      ],
      "metadata": {
        "colab": {
          "base_uri": "https://localhost:8080/"
        },
        "id": "zjvsNh8y1A5x",
        "outputId": "4ee6c19e-77ed-48eb-a5ab-bff373b9a768"
      },
      "execution_count": 25,
      "outputs": [
        {
          "output_type": "stream",
          "name": "stdout",
          "text": [
            "              0  Percentage\n",
            "Unnamed: 0                 \n",
            "68816       108     75.5245\n",
            "62252       100     69.9301\n",
            "74441        88     61.5385\n",
            "26385        80     55.9441\n",
            "25933        80     55.9441\n",
            "25972        79     55.2448\n",
            "55891        79     55.2448\n",
            "62367        79     55.2448\n",
            "26825        78     54.5455\n",
            "56940        75     52.4476\n",
            "62237        75     52.4476\n",
            "62364        74     51.7483\n",
            "26382        73     51.0490\n",
            "50656        72     50.3497\n",
            "26606        71     49.6503\n",
            "62247        70     48.9510\n",
            "50857        69     48.2517\n",
            "62249        68     47.5524\n",
            "19383        68     47.5524\n",
            "50553        67     46.8531\n",
            "26978        67     46.8531\n",
            "62366        67     46.8531\n",
            "62255        67     46.8531\n",
            "62371        67     46.8531\n",
            "62372        67     46.8531\n"
          ]
        }
      ]
    },
    {
      "cell_type": "markdown",
      "source": [
        "Plot missing data for indivdiuals in a histogram"
      ],
      "metadata": {
        "id": "c4bYcUZI074W"
      }
    },
    {
      "cell_type": "code",
      "source": [
        "plot_hist(fig_size=(5,5),\n",
        "          bins=50,\n",
        "          fontsize=12,\n",
        "          x=missing_indiv_level_df[\"Percentage\"],\n",
        "          title=\"Missing data for individuals\",\n",
        "          xlab=\"Percentage\",\n",
        "          ylab=\"Frequency\")"
      ],
      "metadata": {
        "colab": {
          "base_uri": "https://localhost:8080/",
          "height": 507
        },
        "id": "WXLWklxW2Jqa",
        "outputId": "68de5896-1279-4dce-b398-c27fe8394499"
      },
      "execution_count": 26,
      "outputs": [
        {
          "output_type": "display_data",
          "data": {
            "text/plain": [
              "<Figure size 500x500 with 1 Axes>"
            ],
            "image/png": "[encoded data removed]"
          },
          "metadata": {}
        }
      ]
    },
    {
      "cell_type": "markdown",
      "source": [
        "Set missing threshold"
      ],
      "metadata": {
        "id": "O4UvdHRH05y5"
      }
    },
    {
      "cell_type": "code",
      "source": [
        "# Set threshold (percentage)\n",
        "missing_thresh_indiv_level = 20"
      ],
      "metadata": {
        "id": "ntMFTWJ62v9n"
      },
      "execution_count": 27,
      "outputs": []
    },
    {
      "cell_type": "code",
      "source": [
        "# get minimum number of variables required (from percentage threshold)\n",
        "min_count = missing_indiv_level_df[missing_indiv_level_df['Percentage'] < missing_thresh_indiv_level].iloc[0, 0]\n",
        "# drop individuals who have missing data in more columns than min_count\n",
        "X_and_y.dropna(axis=0, thresh=min_count +1, inplace=True)"
      ],
      "metadata": {
        "id": "6oAwFRWN3RAl"
      },
      "execution_count": 28,
      "outputs": []
    },
    {
      "cell_type": "markdown",
      "source": [
        "For (mainly) computational reasons, we are now going to randomly select a sample of 0 labels to match the number of 1 labels, so that we have a smaller, **balanced** sample."
      ],
      "metadata": {
        "id": "iGrGfLTD4CUT"
      }
    },
    {
      "cell_type": "code",
      "source": [
        "# define positive and negative labels\n",
        "positive_labels = X_and_y[X_and_y[\"DV_Ed_Binary\"]==1]\n",
        "negative_labels = X_and_y[X_and_y[\"DV_Ed_Binary\"]==0]\n",
        "# get number of positive lables\n",
        "n_positive = positive_labels.shape[0]\n",
        "# create a random sample of negative labels with the same N as positive\n",
        "negative_labels = negative_labels.sample(n=n_positive, replace=False, random_state=93, axis=0)\n",
        "# define new X and y df\n",
        "X_and_y = pd.concat([positive_labels, negative_labels], axis=0)\n",
        "print(X_and_y.shape)"
      ],
      "metadata": {
        "colab": {
          "base_uri": "https://localhost:8080/"
        },
        "id": "ZD-rhENGzopt",
        "outputId": "4c583dcd-996c-4b06-bcd9-f2119a4761d4"
      },
      "execution_count": 29,
      "outputs": [
        {
          "output_type": "stream",
          "name": "stdout",
          "text": [
            "(10936, 144)\n"
          ]
        }
      ]
    },
    {
      "cell_type": "markdown",
      "source": [
        "End data pre-processing stage!"
      ],
      "metadata": {
        "id": "c_sPH7A-5nU5"
      }
    },
    {
      "cell_type": "code",
      "source": [
        "end_data_preprocess = dt.datetime.now()\n",
        "data_preprocess_time = end_data_preprocess - start\n",
        "print(\"Data pre-processing done. Time taken: {}\".format(str(data_preprocess_time)))"
      ],
      "metadata": {
        "colab": {
          "base_uri": "https://localhost:8080/"
        },
        "id": "0ipc_YWf5ngd",
        "outputId": "7a96281a-be0f-47ad-e617-ee59599e43d9"
      },
      "execution_count": 30,
      "outputs": [
        {
          "output_type": "stream",
          "name": "stdout",
          "text": [
            "Data pre-processing done. Time taken: 0:01:03.407622\n"
          ]
        }
      ]
    }
  ]
}